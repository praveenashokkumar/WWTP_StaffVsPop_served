{
 "cells": [
  {
   "cell_type": "code",
   "execution_count": 62,
   "metadata": {
    "collapsed": true
   },
   "outputs": [],
   "source": [
    "# Program for correlation between wwtp and population\n",
    "from __future__ import print_function\n",
    "import numpy as np\n",
    "import pylab as pl\n",
    "import matplotlib.pyplot as plt\n",
    "import pandas as pd\n",
    "import os"
   ]
  },
  {
   "cell_type": "code",
   "execution_count": 63,
   "metadata": {
    "collapsed": true
   },
   "outputs": [],
   "source": [
    "DFdata = os.getenv('DFDATA')"
   ]
  },
  {
   "cell_type": "code",
   "execution_count": 76,
   "metadata": {
    "collapsed": false
   },
   "outputs": [],
   "source": [
    "#Reading data from data hub\n",
    "wwtp_pop = pd.read_csv('/projects/open/NYCOpenData/nycopendata/data/b79y-xcs9/1414245953/b79y-xcs9')"
   ]
  },
  {
   "cell_type": "code",
   "execution_count": 77,
   "metadata": {
    "collapsed": false,
    "scrolled": false
   },
   "outputs": [
    {
     "data": {
      "text/html": [
       "<div>\n",
       "<table border=\"1\" class=\"dataframe\">\n",
       "  <thead>\n",
       "    <tr style=\"text-align: right;\">\n",
       "      <th></th>\n",
       "      <th>Wastewater Treatment Plant Name</th>\n",
       "      <th>Location</th>\n",
       "      <th>Plant in operation</th>\n",
       "      <th>Design Capacity</th>\n",
       "      <th>Dewatering</th>\n",
       "      <th>Population Served</th>\n",
       "      <th>Receiving Waterbody</th>\n",
       "      <th>Drainage Area</th>\n",
       "      <th>Plant Staff</th>\n",
       "      <th>Note</th>\n",
       "    </tr>\n",
       "  </thead>\n",
       "  <tbody>\n",
       "    <tr>\n",
       "      <th>0</th>\n",
       "      <td>26th Ward WWTP</td>\n",
       "      <td>East</td>\n",
       "      <td>1944</td>\n",
       "      <td>85 MGD</td>\n",
       "      <td>26th Ward</td>\n",
       "      <td>283428</td>\n",
       "      <td>Jamaica Bay</td>\n",
       "      <td>5,907 Acres, eastern section of Brooklyn, near...</td>\n",
       "      <td>93</td>\n",
       "      <td>NaN</td>\n",
       "    </tr>\n",
       "    <tr>\n",
       "      <th>1</th>\n",
       "      <td>Bowery Bay WWTP</td>\n",
       "      <td>North</td>\n",
       "      <td>1939</td>\n",
       "      <td>150 MGD</td>\n",
       "      <td>Bowery Bay</td>\n",
       "      <td>848328</td>\n",
       "      <td>Upper East River</td>\n",
       "      <td>15,203 Acres, northeast section of Queens</td>\n",
       "      <td>81</td>\n",
       "      <td>NaN</td>\n",
       "    </tr>\n",
       "    <tr>\n",
       "      <th>2</th>\n",
       "      <td>Coney Island WWTP</td>\n",
       "      <td>East</td>\n",
       "      <td>1935</td>\n",
       "      <td>110 MGD</td>\n",
       "      <td>26th Ward</td>\n",
       "      <td>596326</td>\n",
       "      <td>Jamaica Bay</td>\n",
       "      <td>15,087 Acres, south and central Brooklyn</td>\n",
       "      <td>69</td>\n",
       "      <td>NaN</td>\n",
       "    </tr>\n",
       "    <tr>\n",
       "      <th>3</th>\n",
       "      <td>Hunts Point WWTP</td>\n",
       "      <td>North</td>\n",
       "      <td>1952</td>\n",
       "      <td>200 MGD</td>\n",
       "      <td>Hunts Point</td>\n",
       "      <td>684569</td>\n",
       "      <td>Upper East River</td>\n",
       "      <td>16,664 Acres, eastern section of the Bronx</td>\n",
       "      <td>108</td>\n",
       "      <td>NaN</td>\n",
       "    </tr>\n",
       "    <tr>\n",
       "      <th>4</th>\n",
       "      <td>Jamaica WWTP</td>\n",
       "      <td>East</td>\n",
       "      <td>1903 / 1943</td>\n",
       "      <td>100 MGD</td>\n",
       "      <td>Jamaica WWTP</td>\n",
       "      <td>728123</td>\n",
       "      <td>Jamaica Bay</td>\n",
       "      <td>25,313 Acres, southern section of Queens</td>\n",
       "      <td>66</td>\n",
       "      <td>NaN</td>\n",
       "    </tr>\n",
       "  </tbody>\n",
       "</table>\n",
       "</div>"
      ],
      "text/plain": [
       "  Wastewater Treatment Plant Name Location Plant in operation Design Capacity  \\\n",
       "0                  26th Ward WWTP     East               1944          85 MGD   \n",
       "1                 Bowery Bay WWTP    North               1939         150 MGD   \n",
       "2               Coney Island WWTP     East               1935         110 MGD   \n",
       "3                Hunts Point WWTP    North               1952         200 MGD   \n",
       "4                    Jamaica WWTP     East        1903 / 1943         100 MGD   \n",
       "\n",
       "     Dewatering  Population Served Receiving Waterbody  \\\n",
       "0     26th Ward             283428         Jamaica Bay   \n",
       "1    Bowery Bay             848328    Upper East River   \n",
       "2     26th Ward             596326         Jamaica Bay   \n",
       "3   Hunts Point             684569    Upper East River   \n",
       "4  Jamaica WWTP             728123         Jamaica Bay   \n",
       "\n",
       "                                       Drainage Area  Plant Staff Note  \n",
       "0  5,907 Acres, eastern section of Brooklyn, near...           93  NaN  \n",
       "1          15,203 Acres, northeast section of Queens           81  NaN  \n",
       "2           15,087 Acres, south and central Brooklyn           69  NaN  \n",
       "3         16,664 Acres, eastern section of the Bronx          108  NaN  \n",
       "4           25,313 Acres, southern section of Queens           66  NaN  "
      ]
     },
     "execution_count": 77,
     "metadata": {},
     "output_type": "execute_result"
    }
   ],
   "source": [
    "wwtp_pop.head()"
   ]
  },
  {
   "cell_type": "raw",
   "metadata": {},
   "source": [
    "#Dropping unnecesary Columns"
   ]
  },
  {
   "cell_type": "code",
   "execution_count": 78,
   "metadata": {
    "collapsed": false,
    "scrolled": true
   },
   "outputs": [],
   "source": [
    "wwtp_pop.drop(['Location','Wastewater Treatment Plant Name', 'Plant in operation', 'Design Capacity', 'Dewatering', 'Receiving Waterbody','Drainage Area','Note'],inplace=True,axis=1,errors='ignore')"
   ]
  },
  {
   "cell_type": "code",
   "execution_count": 79,
   "metadata": {
    "collapsed": false
   },
   "outputs": [
    {
     "data": {
      "text/html": [
       "<div>\n",
       "<table border=\"1\" class=\"dataframe\">\n",
       "  <thead>\n",
       "    <tr style=\"text-align: right;\">\n",
       "      <th></th>\n",
       "      <th>Population Served</th>\n",
       "      <th>Plant Staff</th>\n",
       "    </tr>\n",
       "  </thead>\n",
       "  <tbody>\n",
       "    <tr>\n",
       "      <th>0</th>\n",
       "      <td>283428</td>\n",
       "      <td>93</td>\n",
       "    </tr>\n",
       "    <tr>\n",
       "      <th>1</th>\n",
       "      <td>848328</td>\n",
       "      <td>81</td>\n",
       "    </tr>\n",
       "    <tr>\n",
       "      <th>2</th>\n",
       "      <td>596326</td>\n",
       "      <td>69</td>\n",
       "    </tr>\n",
       "    <tr>\n",
       "      <th>3</th>\n",
       "      <td>684569</td>\n",
       "      <td>108</td>\n",
       "    </tr>\n",
       "    <tr>\n",
       "      <th>4</th>\n",
       "      <td>728123</td>\n",
       "      <td>66</td>\n",
       "    </tr>\n",
       "  </tbody>\n",
       "</table>\n",
       "</div>"
      ],
      "text/plain": [
       "   Population Served  Plant Staff\n",
       "0             283428           93\n",
       "1             848328           81\n",
       "2             596326           69\n",
       "3             684569          108\n",
       "4             728123           66"
      ]
     },
     "execution_count": 79,
     "metadata": {},
     "output_type": "execute_result"
    }
   ],
   "source": [
    "wwtp_pop.head()"
   ]
  },
  {
   "cell_type": "code",
   "execution_count": 96,
   "metadata": {
    "collapsed": false
   },
   "outputs": [
    {
     "data": {
      "text/plain": [
       "<matplotlib.text.Text at 0x7ff7382693c8>"
      ]
     },
     "execution_count": 96,
     "metadata": {},
     "output_type": "execute_result"
    }
   ],
   "source": [
    "#Plotting the graph\n",
    "plt.scatter(wwtp_pop['Plant Staff'],wwtp_pop['Population Served'])\n",
    "plt.xlabel('No. of Plant Workers')\n",
    "plt.ylabel('Population Served by WWTP')\n",
    "plt.title('Waste Water Treatment Plant Staffing Optimization Problem')"
   ]
  },
  {
   "cell_type": "code",
   "execution_count": 97,
   "metadata": {
    "collapsed": false
   },
   "outputs": [
    {
     "data": {
      "image/png": "[encoded data removed]",
      "text/plain": [
       "<matplotlib.figure.Figure at 0x7ff7383526a0>"
      ]
     },
     "metadata": {},
     "output_type": "display_data"
    }
   ],
   "source": [
    "plt.show()"
   ]
  },
  {
   "cell_type": "code",
   "execution_count": null,
   "metadata": {
    "collapsed": false
   },
   "outputs": [],
   "source": []
  }
 ],
 "metadata": {
  "kernelspec": {
   "display_name": "PUI2016_Python3",
   "language": "python",
   "name": "pui2016_python3"
  },
  "language_info": {
   "codemirror_mode": {
    "name": "ipython",
    "version": 3
   },
   "file_extension": ".py",
   "mimetype": "text/x-python",
   "name": "python",
   "nbconvert_exporter": "python",
   "pygments_lexer": "ipython3",
   "version": "3.5.2"
  }
 },
 "nbformat": 4,
 "nbformat_minor": 0
}
